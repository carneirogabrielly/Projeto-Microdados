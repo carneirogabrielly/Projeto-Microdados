{
 "cells": [
  {
   "cell_type": "markdown",
   "metadata": {},
   "source": [
    "Importanto bibliotecas necessárias"
   ]
  },
  {
   "cell_type": "code",
   "execution_count": 300,
   "metadata": {},
   "outputs": [],
   "source": [
    "import numpy as np\n",
    "import pandas as pd\n",
    "import math\n",
    "import matplotlib.pyplot as plt\n",
    "import seaborn as sns\n",
    "from scipy import stats"
   ]
  },
  {
   "cell_type": "markdown",
   "metadata": {},
   "source": [
    "# Introdução"
   ]
  },
  {
   "cell_type": "markdown",
   "metadata": {},
   "source": [
    "\n",
    "**Contextualização**\n",
    "\n",
    "- ***Taxa de desemprego:*** Percentual da população de 16 anos e mais, economicamente ativa, desocupada.\n",
    "- ***Porcentagem de pobres:*** O salário mínimo do último ano para o qual a série está sendo calculada torna-se a referência para toda a série. Esse valor é corrigido para todos com base no INPC de julho de 2010, alterando o valor da linha de pobreza e consequentemente a proporção de pobres. Nesta tabela, o valor de referência, salário mínimo de 2010, é de R$ 510,00.\n",
    "- ***Taxa de incidencia de Tuberlose:***\n",
    "Taxa de incidência: casos por 100.000 habitantes\n",
    "Informações apresentadas segundo local de residência e ano do diagnóstico; considerados os casos com tipo de entrada igual a \"caso novo\" ou \"não sabe\".\n",
    "Situação da base de dados em novembro/2013. Dados de 2001 a 2010 atualizados em realização ao IDB anterior.\n",
    "Nas tabulações por faixa etária ou sexo, estão suprimidos os casos com faixa etária ou sexo ignorados, respectivamente.\n",
    "- ***Indice Gini:***\n",
    "\n",
    "\n",
    "**Tema e Objetivo**\n",
    "\n",
    "\n",
    "**Base de Dados**\n"
   ]
  },
  {
   "cell_type": "markdown",
   "metadata": {},
   "source": [
    "# Manipulando as planilhas de dados"
   ]
  },
  {
   "cell_type": "code",
   "execution_count": 320,
   "metadata": {},
   "outputs": [],
   "source": [
    "desemprego0 = pd.read_excel('planilhas capitais/%_desemprego.xlsx')\n",
    "pobres_brancos_negros0 = pd.read_excel('planilhas capitais/%_pobres_brancos_negros.xlsx')\n",
    "indice_gini0 = pd.read_excel('planilhas capitais/Indice_Gini_2010.xlsx')\n",
    "aids0 = pd.read_excel('planilhas capitais/Taxa_de_inc_AIDS_2010.xlsx')\n",
    "analfabetismo0 = pd.read_excel('planilhas capitais/%_anafabetismo.xlsx')\n",
    "turbeculose0 = pd.read_excel('planilhas capitais/Numero_de_Casos_Tuberculose.xlsx')"
   ]
  },
  {
   "cell_type": "markdown",
   "metadata": {},
   "source": [
    "- **Limpando Dados:**"
   ]
  },
  {
   "cell_type": "code",
   "execution_count": 303,
   "metadata": {},
   "outputs": [],
   "source": [
    "\n",
    "df_desemprego = desemprego0.drop(desemprego0.index[-6:])\n",
    "\n",
    "df_pobres0 = pobres_brancos_negros0.drop(pobres_brancos_negros0.index[-9:])\n",
    "\n",
    "df_indice_gini0= indice_gini0.drop(indice_gini0.index[-2:])\n",
    "\n",
    "df_aids0 = aids0.drop(aids0.index[-14:])\n",
    "\n",
    "df_analfabetismo0 = analfabetismo0.drop(analfabetismo0.index[-10:])\n"
   ]
  },
  {
   "cell_type": "code",
   "execution_count": 304,
   "metadata": {},
   "outputs": [],
   "source": [
    "del df_indice_gini0[1991]\n",
    "del df_indice_gini0[2000]"
   ]
  },
  {
   "cell_type": "code",
   "execution_count": 306,
   "metadata": {},
   "outputs": [],
   "source": [
    "df_pobres = df_pobres0.rename(columns={'Parda': 'Pop. Pobre Parda', 'Total': 'Pop. Pobre Total','Branca': 'Pop. Pobre Branca','Preta': 'Pop. Pobre Preta'})\n",
    "df_aids = df_aids0.rename(columns={'Taxa_de_incidência': 'Tx. AIDS'})\n",
    "df_analfabetismo = df_analfabetismo0.rename(columns={'Taxa_de_analfabetismo_(15a_e+)': 'Tx. Analfabetismo'})\n",
    "df_desemprego = df_desemprego.rename(columns={'Tx_desemprego_16_anos_e_+_(%)': 'Tx. Desemprego'})\n",
    "df_gini = df_indice_gini0.rename(columns={2010: 'Indice Gini'})"
   ]
  },
  {
   "cell_type": "code",
   "execution_count": 307,
   "metadata": {},
   "outputs": [],
   "source": [
    "result_1 = pd.merge(df_gini, df_pobres, how='inner', on='Capital')\n",
    "result_2 = pd.merge(result_1, df_desemprego, how='inner', on='Capital')\n",
    "result_3 = pd.merge(result_2, df_aids, how='inner', on='Capital')\n",
    "result_4 = pd.merge(result_3, df_analfabetismo, how='inner', on='Capital')"
   ]
  },
  {
   "cell_type": "markdown",
   "metadata": {},
   "source": [
    "##### **Bases de dados**"
   ]
  },
  {
   "cell_type": "code",
   "execution_count": 308,
   "metadata": {},
   "outputs": [],
   "source": [
    "df = result_4"
   ]
  },
  {
   "cell_type": "code",
   "execution_count": 309,
   "metadata": {},
   "outputs": [],
   "source": [
    "df2 = df.copy()"
   ]
  },
  {
   "cell_type": "code",
   "execution_count": 310,
   "metadata": {},
   "outputs": [
    {
     "data": {
      "text/html": [
       "<div>\n",
       "<style scoped>\n",
       "    .dataframe tbody tr th:only-of-type {\n",
       "        vertical-align: middle;\n",
       "    }\n",
       "\n",
       "    .dataframe tbody tr th {\n",
       "        vertical-align: top;\n",
       "    }\n",
       "\n",
       "    .dataframe thead th {\n",
       "        text-align: right;\n",
       "    }\n",
       "</style>\n",
       "<table border=\"1\" class=\"dataframe\">\n",
       "  <thead>\n",
       "    <tr style=\"text-align: right;\">\n",
       "      <th></th>\n",
       "      <th>Capital</th>\n",
       "      <th>Indice Gini</th>\n",
       "      <th>Pop. Pobre Branca</th>\n",
       "      <th>Pop. Pobre Preta</th>\n",
       "      <th>Pop. Pobre Parda</th>\n",
       "      <th>Pop. Pobre Total</th>\n",
       "      <th>Tx. Desemprego</th>\n",
       "      <th>Tx. AIDS</th>\n",
       "      <th>Tx. Analfabetismo</th>\n",
       "    </tr>\n",
       "  </thead>\n",
       "  <tbody>\n",
       "    <tr>\n",
       "      <th>0</th>\n",
       "      <td>Porto Velho</td>\n",
       "      <td>0.5745</td>\n",
       "      <td>18.51</td>\n",
       "      <td>23.01</td>\n",
       "      <td>28.44</td>\n",
       "      <td>25.30</td>\n",
       "      <td>5.63</td>\n",
       "      <td>42.94</td>\n",
       "      <td>5.21</td>\n",
       "    </tr>\n",
       "    <tr>\n",
       "      <th>1</th>\n",
       "      <td>Rio Branco</td>\n",
       "      <td>0.6121</td>\n",
       "      <td>29.71</td>\n",
       "      <td>42.11</td>\n",
       "      <td>41.31</td>\n",
       "      <td>38.50</td>\n",
       "      <td>8.69</td>\n",
       "      <td>11.01</td>\n",
       "      <td>8.86</td>\n",
       "    </tr>\n",
       "    <tr>\n",
       "      <th>2</th>\n",
       "      <td>Manaus</td>\n",
       "      <td>0.6334</td>\n",
       "      <td>29.70</td>\n",
       "      <td>38.79</td>\n",
       "      <td>40.85</td>\n",
       "      <td>37.78</td>\n",
       "      <td>10.79</td>\n",
       "      <td>49.78</td>\n",
       "      <td>3.91</td>\n",
       "    </tr>\n",
       "    <tr>\n",
       "      <th>3</th>\n",
       "      <td>Boa Vista</td>\n",
       "      <td>0.5936</td>\n",
       "      <td>25.42</td>\n",
       "      <td>39.22</td>\n",
       "      <td>37.07</td>\n",
       "      <td>34.81</td>\n",
       "      <td>7.33</td>\n",
       "      <td>46.08</td>\n",
       "      <td>5.66</td>\n",
       "    </tr>\n",
       "    <tr>\n",
       "      <th>4</th>\n",
       "      <td>Belém</td>\n",
       "      <td>0.6284</td>\n",
       "      <td>27.44</td>\n",
       "      <td>37.33</td>\n",
       "      <td>39.77</td>\n",
       "      <td>36.23</td>\n",
       "      <td>10.07</td>\n",
       "      <td>41.84</td>\n",
       "      <td>3.31</td>\n",
       "    </tr>\n",
       "    <tr>\n",
       "      <th>5</th>\n",
       "      <td>Macapá</td>\n",
       "      <td>0.6037</td>\n",
       "      <td>31.94</td>\n",
       "      <td>39.21</td>\n",
       "      <td>43.35</td>\n",
       "      <td>39.87</td>\n",
       "      <td>11.35</td>\n",
       "      <td>19.59</td>\n",
       "      <td>6.03</td>\n",
       "    </tr>\n",
       "    <tr>\n",
       "      <th>6</th>\n",
       "      <td>Palmas</td>\n",
       "      <td>0.5914</td>\n",
       "      <td>16.79</td>\n",
       "      <td>31.04</td>\n",
       "      <td>26.12</td>\n",
       "      <td>23.52</td>\n",
       "      <td>6.34</td>\n",
       "      <td>16.64</td>\n",
       "      <td>3.74</td>\n",
       "    </tr>\n",
       "    <tr>\n",
       "      <th>7</th>\n",
       "      <td>São Luís</td>\n",
       "      <td>0.6266</td>\n",
       "      <td>28.42</td>\n",
       "      <td>39.57</td>\n",
       "      <td>42.69</td>\n",
       "      <td>37.94</td>\n",
       "      <td>11.92</td>\n",
       "      <td>39.12</td>\n",
       "      <td>4.58</td>\n",
       "    </tr>\n",
       "    <tr>\n",
       "      <th>8</th>\n",
       "      <td>Teresina</td>\n",
       "      <td>0.6171</td>\n",
       "      <td>29.09</td>\n",
       "      <td>45.32</td>\n",
       "      <td>42.48</td>\n",
       "      <td>39.18</td>\n",
       "      <td>9.55</td>\n",
       "      <td>27.27</td>\n",
       "      <td>8.78</td>\n",
       "    </tr>\n",
       "    <tr>\n",
       "      <th>9</th>\n",
       "      <td>Fortaleza</td>\n",
       "      <td>0.6267</td>\n",
       "      <td>26.17</td>\n",
       "      <td>43.42</td>\n",
       "      <td>40.42</td>\n",
       "      <td>35.26</td>\n",
       "      <td>7.53</td>\n",
       "      <td>24.83</td>\n",
       "      <td>6.82</td>\n",
       "    </tr>\n",
       "    <tr>\n",
       "      <th>10</th>\n",
       "      <td>Natal</td>\n",
       "      <td>0.6217</td>\n",
       "      <td>24.65</td>\n",
       "      <td>34.64</td>\n",
       "      <td>36.65</td>\n",
       "      <td>31.13</td>\n",
       "      <td>9.97</td>\n",
       "      <td>20.16</td>\n",
       "      <td>7.87</td>\n",
       "    </tr>\n",
       "    <tr>\n",
       "      <th>11</th>\n",
       "      <td>João Pessoa</td>\n",
       "      <td>0.6287</td>\n",
       "      <td>25.55</td>\n",
       "      <td>37.75</td>\n",
       "      <td>38.48</td>\n",
       "      <td>32.43</td>\n",
       "      <td>9.74</td>\n",
       "      <td>21.01</td>\n",
       "      <td>7.67</td>\n",
       "    </tr>\n",
       "    <tr>\n",
       "      <th>12</th>\n",
       "      <td>Recife</td>\n",
       "      <td>0.6894</td>\n",
       "      <td>24.31</td>\n",
       "      <td>43.69</td>\n",
       "      <td>43.27</td>\n",
       "      <td>35.42</td>\n",
       "      <td>12.21</td>\n",
       "      <td>40.12</td>\n",
       "      <td>6.90</td>\n",
       "    </tr>\n",
       "    <tr>\n",
       "      <th>13</th>\n",
       "      <td>Maceió</td>\n",
       "      <td>0.6378</td>\n",
       "      <td>32.38</td>\n",
       "      <td>45.60</td>\n",
       "      <td>45.62</td>\n",
       "      <td>40.67</td>\n",
       "      <td>12.01</td>\n",
       "      <td>24.12</td>\n",
       "      <td>11.32</td>\n",
       "    </tr>\n",
       "    <tr>\n",
       "      <th>14</th>\n",
       "      <td>Aracaju</td>\n",
       "      <td>0.6341</td>\n",
       "      <td>24.48</td>\n",
       "      <td>35.74</td>\n",
       "      <td>35.41</td>\n",
       "      <td>31.69</td>\n",
       "      <td>10.71</td>\n",
       "      <td>20.66</td>\n",
       "      <td>6.59</td>\n",
       "    </tr>\n",
       "    <tr>\n",
       "      <th>15</th>\n",
       "      <td>Salvador</td>\n",
       "      <td>0.6449</td>\n",
       "      <td>20.10</td>\n",
       "      <td>39.23</td>\n",
       "      <td>35.00</td>\n",
       "      <td>33.47</td>\n",
       "      <td>12.72</td>\n",
       "      <td>29.75</td>\n",
       "      <td>3.87</td>\n",
       "    </tr>\n",
       "    <tr>\n",
       "      <th>16</th>\n",
       "      <td>Belo Horizonte</td>\n",
       "      <td>0.6106</td>\n",
       "      <td>10.32</td>\n",
       "      <td>21.41</td>\n",
       "      <td>21.15</td>\n",
       "      <td>16.13</td>\n",
       "      <td>6.21</td>\n",
       "      <td>25.39</td>\n",
       "      <td>2.80</td>\n",
       "    </tr>\n",
       "    <tr>\n",
       "      <th>17</th>\n",
       "      <td>Vitória</td>\n",
       "      <td>0.6124</td>\n",
       "      <td>7.89</td>\n",
       "      <td>22.80</td>\n",
       "      <td>21.56</td>\n",
       "      <td>15.02</td>\n",
       "      <td>6.82</td>\n",
       "      <td>37.22</td>\n",
       "      <td>2.46</td>\n",
       "    </tr>\n",
       "    <tr>\n",
       "      <th>18</th>\n",
       "      <td>Rio de Janeiro</td>\n",
       "      <td>0.6391</td>\n",
       "      <td>14.10</td>\n",
       "      <td>29.26</td>\n",
       "      <td>27.15</td>\n",
       "      <td>20.66</td>\n",
       "      <td>7.10</td>\n",
       "      <td>40.88</td>\n",
       "      <td>2.75</td>\n",
       "    </tr>\n",
       "    <tr>\n",
       "      <th>19</th>\n",
       "      <td>São Paulo</td>\n",
       "      <td>0.6453</td>\n",
       "      <td>15.64</td>\n",
       "      <td>24.61</td>\n",
       "      <td>28.40</td>\n",
       "      <td>20.03</td>\n",
       "      <td>7.20</td>\n",
       "      <td>28.84</td>\n",
       "      <td>3.12</td>\n",
       "    </tr>\n",
       "    <tr>\n",
       "      <th>20</th>\n",
       "      <td>Curitiba</td>\n",
       "      <td>0.5652</td>\n",
       "      <td>8.74</td>\n",
       "      <td>14.90</td>\n",
       "      <td>16.20</td>\n",
       "      <td>10.16</td>\n",
       "      <td>4.61</td>\n",
       "      <td>33.62</td>\n",
       "      <td>2.09</td>\n",
       "    </tr>\n",
       "    <tr>\n",
       "      <th>21</th>\n",
       "      <td>Florianópolis</td>\n",
       "      <td>0.5474</td>\n",
       "      <td>6.65</td>\n",
       "      <td>13.59</td>\n",
       "      <td>15.32</td>\n",
       "      <td>7.83</td>\n",
       "      <td>4.81</td>\n",
       "      <td>63.62</td>\n",
       "      <td>1.94</td>\n",
       "    </tr>\n",
       "    <tr>\n",
       "      <th>22</th>\n",
       "      <td>Porto Alegre</td>\n",
       "      <td>0.6144</td>\n",
       "      <td>11.74</td>\n",
       "      <td>26.74</td>\n",
       "      <td>26.50</td>\n",
       "      <td>14.76</td>\n",
       "      <td>5.35</td>\n",
       "      <td>105.44</td>\n",
       "      <td>2.18</td>\n",
       "    </tr>\n",
       "    <tr>\n",
       "      <th>23</th>\n",
       "      <td>Campo Grande</td>\n",
       "      <td>0.5720</td>\n",
       "      <td>14.67</td>\n",
       "      <td>18.62</td>\n",
       "      <td>23.26</td>\n",
       "      <td>18.62</td>\n",
       "      <td>6.22</td>\n",
       "      <td>28.09</td>\n",
       "      <td>3.80</td>\n",
       "    </tr>\n",
       "    <tr>\n",
       "      <th>24</th>\n",
       "      <td>Cuiabá</td>\n",
       "      <td>0.6008</td>\n",
       "      <td>12.86</td>\n",
       "      <td>24.01</td>\n",
       "      <td>23.69</td>\n",
       "      <td>20.01</td>\n",
       "      <td>6.41</td>\n",
       "      <td>33.75</td>\n",
       "      <td>4.46</td>\n",
       "    </tr>\n",
       "    <tr>\n",
       "      <th>25</th>\n",
       "      <td>Goiânia</td>\n",
       "      <td>0.5908</td>\n",
       "      <td>11.83</td>\n",
       "      <td>19.27</td>\n",
       "      <td>18.15</td>\n",
       "      <td>15.20</td>\n",
       "      <td>5.05</td>\n",
       "      <td>24.96</td>\n",
       "      <td>3.10</td>\n",
       "    </tr>\n",
       "    <tr>\n",
       "      <th>26</th>\n",
       "      <td>Brasília</td>\n",
       "      <td>0.6370</td>\n",
       "      <td>12.81</td>\n",
       "      <td>21.81</td>\n",
       "      <td>22.64</td>\n",
       "      <td>18.32</td>\n",
       "      <td>7.83</td>\n",
       "      <td>18.01</td>\n",
       "      <td>3.59</td>\n",
       "    </tr>\n",
       "  </tbody>\n",
       "</table>\n",
       "</div>"
      ],
      "text/plain": [
       "           Capital  Indice Gini  Pop. Pobre Branca  Pop. Pobre Preta  \\\n",
       "0      Porto Velho       0.5745              18.51             23.01   \n",
       "1       Rio Branco       0.6121              29.71             42.11   \n",
       "2           Manaus       0.6334              29.70             38.79   \n",
       "3        Boa Vista       0.5936              25.42             39.22   \n",
       "4            Belém       0.6284              27.44             37.33   \n",
       "5           Macapá       0.6037              31.94             39.21   \n",
       "6           Palmas       0.5914              16.79             31.04   \n",
       "7         São Luís       0.6266              28.42             39.57   \n",
       "8         Teresina       0.6171              29.09             45.32   \n",
       "9        Fortaleza       0.6267              26.17             43.42   \n",
       "10           Natal       0.6217              24.65             34.64   \n",
       "11     João Pessoa       0.6287              25.55             37.75   \n",
       "12          Recife       0.6894              24.31             43.69   \n",
       "13          Maceió       0.6378              32.38             45.60   \n",
       "14         Aracaju       0.6341              24.48             35.74   \n",
       "15        Salvador       0.6449              20.10             39.23   \n",
       "16  Belo Horizonte       0.6106              10.32             21.41   \n",
       "17         Vitória       0.6124               7.89             22.80   \n",
       "18  Rio de Janeiro       0.6391              14.10             29.26   \n",
       "19       São Paulo       0.6453              15.64             24.61   \n",
       "20        Curitiba       0.5652               8.74             14.90   \n",
       "21   Florianópolis       0.5474               6.65             13.59   \n",
       "22    Porto Alegre       0.6144              11.74             26.74   \n",
       "23    Campo Grande       0.5720              14.67             18.62   \n",
       "24          Cuiabá       0.6008              12.86             24.01   \n",
       "25         Goiânia       0.5908              11.83             19.27   \n",
       "26        Brasília       0.6370              12.81             21.81   \n",
       "\n",
       "    Pop. Pobre Parda  Pop. Pobre Total  Tx. Desemprego  Tx. AIDS  \\\n",
       "0              28.44             25.30            5.63     42.94   \n",
       "1              41.31             38.50            8.69     11.01   \n",
       "2              40.85             37.78           10.79     49.78   \n",
       "3              37.07             34.81            7.33     46.08   \n",
       "4              39.77             36.23           10.07     41.84   \n",
       "5              43.35             39.87           11.35     19.59   \n",
       "6              26.12             23.52            6.34     16.64   \n",
       "7              42.69             37.94           11.92     39.12   \n",
       "8              42.48             39.18            9.55     27.27   \n",
       "9              40.42             35.26            7.53     24.83   \n",
       "10             36.65             31.13            9.97     20.16   \n",
       "11             38.48             32.43            9.74     21.01   \n",
       "12             43.27             35.42           12.21     40.12   \n",
       "13             45.62             40.67           12.01     24.12   \n",
       "14             35.41             31.69           10.71     20.66   \n",
       "15             35.00             33.47           12.72     29.75   \n",
       "16             21.15             16.13            6.21     25.39   \n",
       "17             21.56             15.02            6.82     37.22   \n",
       "18             27.15             20.66            7.10     40.88   \n",
       "19             28.40             20.03            7.20     28.84   \n",
       "20             16.20             10.16            4.61     33.62   \n",
       "21             15.32              7.83            4.81     63.62   \n",
       "22             26.50             14.76            5.35    105.44   \n",
       "23             23.26             18.62            6.22     28.09   \n",
       "24             23.69             20.01            6.41     33.75   \n",
       "25             18.15             15.20            5.05     24.96   \n",
       "26             22.64             18.32            7.83     18.01   \n",
       "\n",
       "    Tx. Analfabetismo  \n",
       "0                5.21  \n",
       "1                8.86  \n",
       "2                3.91  \n",
       "3                5.66  \n",
       "4                3.31  \n",
       "5                6.03  \n",
       "6                3.74  \n",
       "7                4.58  \n",
       "8                8.78  \n",
       "9                6.82  \n",
       "10               7.87  \n",
       "11               7.67  \n",
       "12               6.90  \n",
       "13              11.32  \n",
       "14               6.59  \n",
       "15               3.87  \n",
       "16               2.80  \n",
       "17               2.46  \n",
       "18               2.75  \n",
       "19               3.12  \n",
       "20               2.09  \n",
       "21               1.94  \n",
       "22               2.18  \n",
       "23               3.80  \n",
       "24               4.46  \n",
       "25               3.10  \n",
       "26               3.59  "
      ]
     },
     "execution_count": 310,
     "metadata": {},
     "output_type": "execute_result"
    }
   ],
   "source": [
    "df2"
   ]
  },
  {
   "cell_type": "code",
   "execution_count": 311,
   "metadata": {},
   "outputs": [
    {
     "data": {
      "text/plain": [
       "Index(['Capital', 'Indice Gini', 'Pop. Pobre Branca', 'Pop. Pobre Preta',\n",
       "       'Pop. Pobre Parda', 'Pop. Pobre Total', 'Tx. Desemprego', 'Tx. AIDS',\n",
       "       'Tx. Analfabetismo'],\n",
       "      dtype='object')"
      ]
     },
     "execution_count": 311,
     "metadata": {},
     "output_type": "execute_result"
    }
   ],
   "source": [
    "df2.columns"
   ]
  },
  {
   "cell_type": "code",
   "execution_count": 312,
   "metadata": {},
   "outputs": [],
   "source": [
    "\n",
    "quantitativas = ['Indice Gini', 'Pop. Pobre Branca', 'Pop. Pobre Preta' 'Pop. Pobre Parda', 'Pop. Pobre Total', 'Tx. Desemprego', 'Tx. AIDS',\n",
    "       'Tx. Analfabetismo']\n",
    "                    "
   ]
  },
  {
   "cell_type": "code",
   "execution_count": 313,
   "metadata": {},
   "outputs": [],
   "source": [
    "#função relativiza per capta\n",
    "def relativiza(planilha):\n",
    "    \n",
    "    \n",
    "    quantitativas = ['Indice Gini', 'Pop. Pobre Branca', 'Pop. Pobre Preta', 'Pop. Pobre Parda', 'Pop. Pobre Total', 'Tx. Desemprego', 'Tx. AIDS',\n",
    "       'Tx. Analfabetismo']\n",
    "    \n",
    "    for variavel in quantitativas:\n",
    "        planilha[variavel] = planilha[variavel].astype(float)\n",
    "        \n",
    "\n",
    "\n",
    "    return planilha\n",
    "\n",
    "\n",
    "\n",
    "var_quantitativas = relativiza(df2)"
   ]
  },
  {
   "cell_type": "code",
   "execution_count": 316,
   "metadata": {},
   "outputs": [
    {
     "data": {
      "text/plain": [
       "<AxesSubplot:>"
      ]
     },
     "execution_count": 316,
     "metadata": {},
     "output_type": "execute_result"
    },
    {
     "data": {
      "image/png": "[encoded data removed]",
      "text/plain": [
       "<Figure size 1600x800 with 2 Axes>"
      ]
     },
     "metadata": {},
     "output_type": "display_data"
    }
   ],
   "source": [
    "plt.figure(figsize=(16, 8))\n",
    "sns.heatmap(var_quantitativas.corr(),\n",
    "            cmap = 'BrBG',\n",
    "            fmt = '.2f',\n",
    "            linewidths = 2,\n",
    "            annot = True)"
   ]
  },
  {
   "cell_type": "markdown",
   "metadata": {},
   "source": [
    "### Dicionário:\n",
    "\n",
    "- **Jogado em terreno baldio ou logradouro:** Número de moradores por lixo jogado em terreno baldio ou logradouro\n",
    "- **Jogado em rio, lago ou mar:** Número de moradores por lixo jogado em rio, lago ou mar\n",
    "- **Cobertura Vacinal** Porcentagem de Vacinas com Cobertura Adequada por município\n"
   ]
  },
  {
   "cell_type": "markdown",
   "metadata": {},
   "source": [
    "\n",
    "**Estrutura do Projeto**\n",
    "\n",
    "Serão exploradas técnicas de regressão para a previsão da variável quantitativa \"Quantidade de Desistência no Curso\". A qualidade da comunicação e apresentação dos resultados também será uma prioridade, assegurando que os resultados sejam compreensíveis para um público amplo.\n",
    "\n",
    "Este projeto tem como objetivo fornecer previsões robustas e ir além de uma simples análise exploratória de dados. Espera-se que a análise e modelos desenvolvidos ajudem a entender e prever as desistências em cursos de graduação, o que pode ter implicações importantes na melhoria da Educação Superior."
   ]
  },
  {
   "cell_type": "markdown",
   "metadata": {},
   "source": [
    "### Merge dos Dados"
   ]
  },
  {
   "cell_type": "markdown",
   "metadata": {},
   "source": [
    "# Pergunta\n",
    "\n",
    "Com base no arquivo de 2008, a gente vê se aqueles fatores ainda estão influenciando em 2010\n"
   ]
  },
  {
   "cell_type": "code",
   "execution_count": null,
   "metadata": {},
   "outputs": [],
   "source": []
  },
  {
   "cell_type": "code",
   "execution_count": null,
   "metadata": {},
   "outputs": [],
   "source": []
  },
  {
   "cell_type": "markdown",
   "metadata": {},
   "source": [
    "### Data Processing"
   ]
  },
  {
   "cell_type": "code",
   "execution_count": null,
   "metadata": {},
   "outputs": [],
   "source": [
    "\n"
   ]
  },
  {
   "cell_type": "code",
   "execution_count": null,
   "metadata": {},
   "outputs": [],
   "source": []
  },
  {
   "cell_type": "code",
   "execution_count": null,
   "metadata": {},
   "outputs": [],
   "source": [
    "\n",
    "\n"
   ]
  },
  {
   "cell_type": "markdown",
   "metadata": {},
   "source": [
    "# Minerando Dados e Características do Dataset"
   ]
  },
  {
   "cell_type": "code",
   "execution_count": null,
   "metadata": {},
   "outputs": [],
   "source": []
  },
  {
   "cell_type": "markdown",
   "metadata": {},
   "source": [
    "# Modelos de Predição"
   ]
  },
  {
   "cell_type": "code",
   "execution_count": null,
   "metadata": {},
   "outputs": [],
   "source": []
  },
  {
   "cell_type": "markdown",
   "metadata": {},
   "source": [
    "# Processo e Estatísticas de Validação"
   ]
  },
  {
   "cell_type": "code",
   "execution_count": null,
   "metadata": {},
   "outputs": [],
   "source": []
  },
  {
   "cell_type": "markdown",
   "metadata": {},
   "source": [
    "# Conclusão "
   ]
  },
  {
   "cell_type": "code",
   "execution_count": null,
   "metadata": {},
   "outputs": [],
   "source": []
  },
  {
   "cell_type": "markdown",
   "metadata": {},
   "source": [
    "# Referências Bibliográficas"
   ]
  },
  {
   "cell_type": "markdown",
   "metadata": {},
   "source": []
  }
 ],
 "metadata": {
  "kernelspec": {
   "display_name": "base",
   "language": "python",
   "name": "python3"
  },
  "language_info": {
   "codemirror_mode": {
    "name": "ipython",
    "version": 3
   },
   "file_extension": ".py",
   "mimetype": "text/x-python",
   "name": "python",
   "nbconvert_exporter": "python",
   "pygments_lexer": "ipython3",
   "version": "3.9.13"
  }
 },
 "nbformat": 4,
 "nbformat_minor": 2
}
