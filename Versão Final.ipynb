{
 "cells": [
  {
   "cell_type": "markdown",
   "metadata": {},
   "source": [
    "Importanto bibliotecas necessárias"
   ]
  },
  {
   "cell_type": "code",
   "execution_count": 1,
   "metadata": {},
   "outputs": [
    {
     "name": "stderr",
     "output_type": "stream",
     "text": [
      "c:\\Users\\gabri\\anaconda3\\lib\\site-packages\\scipy\\__init__.py:155: UserWarning: A NumPy version >=1.18.5 and <1.25.0 is required for this version of SciPy (detected version 1.26.0\n",
      "  warnings.warn(f\"A NumPy version >={np_minversion} and <{np_maxversion}\"\n"
     ]
    }
   ],
   "source": [
    "import numpy as np\n",
    "import pandas as pd\n",
    "import math\n",
    "import matplotlib.pyplot as plt\n",
    "from scipy import stats"
   ]
  },
  {
   "cell_type": "markdown",
   "metadata": {},
   "source": [
    "# Introdução"
   ]
  },
  {
   "cell_type": "markdown",
   "metadata": {},
   "source": [
    "\n",
    "**Contextualização**\n",
    "\n",
    "O objetivo do presente projeto de Ciência de Dados é explorar e analisar indicadores de fluxo da Educação Superior a partir de uma base de dados governamentais. O projeto tem a finalidade de prever o comportamento de uma variável principal em relação a diversas outras variáveis que podem influenciar seu desempenho. Na linguagem da estatística e da Ciência de Dados, a variável principal é comumente chamada de \"Target\", enquanto as demais variáveis que a influenciam são conhecidas como \"Features\".\n",
    "\n",
    "**Tema e Objetivo**\n",
    "\n",
    "O tema central deste projeto gira em torno da Educação Superior, sendo o objetivo principal responder a seguinte pergunta:\n",
    "\n",
    "    É possível prever o número de desistências em cursos de graduação com base em indicadores específicos?\n",
    "\n",
    "Para atingir esse objetivo, foi escolhida uma base de dados do governo nacional que contém informações abrangentes sobre instituições de ensino, cursos de graduação e seus respectivos indicadores. Utilizaremos esses dados para construir um modelo preditivo que permita prever a quantidade de desistências em cursos de graduação. A variável principal (ou \"Target\") é a \"Quantidade de Desistência no Curso no ano de referência\".\n",
    "\n",
    "**Base de Dados**\n",
    "\n",
    "A fonte de dados é uma base governamental, composta por microdados, que fornece informações detalhadas sobre instituições de ensino, cursos de graduação e outros dados acadêmicos. Essa base contém colunas que descrevem a instituição, o curso, a região geográfica, a unidade federativa, o grau acadêmico, bem como diversas métricas educacionais, como a quantidade de ingressantes, a quantidade de concluintes, a taxa de permanência e a taxa de conclusão, entre outras.\n",
    "\n",
    "A base de dados pode ser obtida através do link abaixo, selecionando os anos 2018-2022.\n",
    "https://www.gov.br/inep/pt-br/acesso-a-informacao/dados-abertos/indicadores-educacionais/indicadores-de-fluxo-da-educacao-superior \n",
    "\n",
    "Uma amostra dessa base de dados pode ser vista na seção abaixo:"
   ]
  },
  {
   "cell_type": "code",
   "execution_count": 2,
   "metadata": {},
   "outputs": [
    {
     "ename": "FileNotFoundError",
     "evalue": "[Errno 2] No such file or directory: 'indicadores_trajetoria_educacao_superior_2018_2022.xlsx'",
     "output_type": "error",
     "traceback": [
      "\u001b[1;31m---------------------------------------------------------------------------\u001b[0m",
      "\u001b[1;31mFileNotFoundError\u001b[0m                         Traceback (most recent call last)",
      "\u001b[1;32m~\\AppData\\Local\\Temp\\ipykernel_19304\\2419296154.py\u001b[0m in \u001b[0;36m<module>\u001b[1;34m\u001b[0m\n\u001b[1;32m----> 1\u001b[1;33m \u001b[0mdados\u001b[0m \u001b[1;33m=\u001b[0m \u001b[0mpd\u001b[0m\u001b[1;33m.\u001b[0m\u001b[0mread_excel\u001b[0m\u001b[1;33m(\u001b[0m\u001b[1;34m'indicadores_trajetoria_educacao_superior_2018_2022.xlsx'\u001b[0m\u001b[1;33m)\u001b[0m\u001b[1;33m\u001b[0m\u001b[1;33m\u001b[0m\u001b[0m\n\u001b[0m\u001b[0;32m      2\u001b[0m \u001b[0mdados\u001b[0m\u001b[1;33m.\u001b[0m\u001b[0mhead\u001b[0m\u001b[1;33m(\u001b[0m\u001b[1;36m3\u001b[0m\u001b[1;33m)\u001b[0m\u001b[1;33m\u001b[0m\u001b[1;33m\u001b[0m\u001b[0m\n",
      "\u001b[1;32mc:\\Users\\gabri\\anaconda3\\lib\\site-packages\\pandas\\util\\_decorators.py\u001b[0m in \u001b[0;36mwrapper\u001b[1;34m(*args, **kwargs)\u001b[0m\n\u001b[0;32m    309\u001b[0m                     \u001b[0mstacklevel\u001b[0m\u001b[1;33m=\u001b[0m\u001b[0mstacklevel\u001b[0m\u001b[1;33m,\u001b[0m\u001b[1;33m\u001b[0m\u001b[1;33m\u001b[0m\u001b[0m\n\u001b[0;32m    310\u001b[0m                 )\n\u001b[1;32m--> 311\u001b[1;33m             \u001b[1;32mreturn\u001b[0m \u001b[0mfunc\u001b[0m\u001b[1;33m(\u001b[0m\u001b[1;33m*\u001b[0m\u001b[0margs\u001b[0m\u001b[1;33m,\u001b[0m \u001b[1;33m**\u001b[0m\u001b[0mkwargs\u001b[0m\u001b[1;33m)\u001b[0m\u001b[1;33m\u001b[0m\u001b[1;33m\u001b[0m\u001b[0m\n\u001b[0m\u001b[0;32m    312\u001b[0m \u001b[1;33m\u001b[0m\u001b[0m\n\u001b[0;32m    313\u001b[0m         \u001b[1;32mreturn\u001b[0m \u001b[0mwrapper\u001b[0m\u001b[1;33m\u001b[0m\u001b[1;33m\u001b[0m\u001b[0m\n",
      "\u001b[1;32mc:\\Users\\gabri\\anaconda3\\lib\\site-packages\\pandas\\io\\excel\\_base.py\u001b[0m in \u001b[0;36mread_excel\u001b[1;34m(io, sheet_name, header, names, index_col, usecols, squeeze, dtype, engine, converters, true_values, false_values, skiprows, nrows, na_values, keep_default_na, na_filter, verbose, parse_dates, date_parser, thousands, decimal, comment, skipfooter, convert_float, mangle_dupe_cols, storage_options)\u001b[0m\n\u001b[0;32m    455\u001b[0m     \u001b[1;32mif\u001b[0m \u001b[1;32mnot\u001b[0m \u001b[0misinstance\u001b[0m\u001b[1;33m(\u001b[0m\u001b[0mio\u001b[0m\u001b[1;33m,\u001b[0m \u001b[0mExcelFile\u001b[0m\u001b[1;33m)\u001b[0m\u001b[1;33m:\u001b[0m\u001b[1;33m\u001b[0m\u001b[1;33m\u001b[0m\u001b[0m\n\u001b[0;32m    456\u001b[0m         \u001b[0mshould_close\u001b[0m \u001b[1;33m=\u001b[0m \u001b[1;32mTrue\u001b[0m\u001b[1;33m\u001b[0m\u001b[1;33m\u001b[0m\u001b[0m\n\u001b[1;32m--> 457\u001b[1;33m         \u001b[0mio\u001b[0m \u001b[1;33m=\u001b[0m \u001b[0mExcelFile\u001b[0m\u001b[1;33m(\u001b[0m\u001b[0mio\u001b[0m\u001b[1;33m,\u001b[0m \u001b[0mstorage_options\u001b[0m\u001b[1;33m=\u001b[0m\u001b[0mstorage_options\u001b[0m\u001b[1;33m,\u001b[0m \u001b[0mengine\u001b[0m\u001b[1;33m=\u001b[0m\u001b[0mengine\u001b[0m\u001b[1;33m)\u001b[0m\u001b[1;33m\u001b[0m\u001b[1;33m\u001b[0m\u001b[0m\n\u001b[0m\u001b[0;32m    458\u001b[0m     \u001b[1;32melif\u001b[0m \u001b[0mengine\u001b[0m \u001b[1;32mand\u001b[0m \u001b[0mengine\u001b[0m \u001b[1;33m!=\u001b[0m \u001b[0mio\u001b[0m\u001b[1;33m.\u001b[0m\u001b[0mengine\u001b[0m\u001b[1;33m:\u001b[0m\u001b[1;33m\u001b[0m\u001b[1;33m\u001b[0m\u001b[0m\n\u001b[0;32m    459\u001b[0m         raise ValueError(\n",
      "\u001b[1;32mc:\\Users\\gabri\\anaconda3\\lib\\site-packages\\pandas\\io\\excel\\_base.py\u001b[0m in \u001b[0;36m__init__\u001b[1;34m(self, path_or_buffer, engine, storage_options)\u001b[0m\n\u001b[0;32m   1374\u001b[0m                 \u001b[0mext\u001b[0m \u001b[1;33m=\u001b[0m \u001b[1;34m\"xls\"\u001b[0m\u001b[1;33m\u001b[0m\u001b[1;33m\u001b[0m\u001b[0m\n\u001b[0;32m   1375\u001b[0m             \u001b[1;32melse\u001b[0m\u001b[1;33m:\u001b[0m\u001b[1;33m\u001b[0m\u001b[1;33m\u001b[0m\u001b[0m\n\u001b[1;32m-> 1376\u001b[1;33m                 ext = inspect_excel_format(\n\u001b[0m\u001b[0;32m   1377\u001b[0m                     \u001b[0mcontent_or_path\u001b[0m\u001b[1;33m=\u001b[0m\u001b[0mpath_or_buffer\u001b[0m\u001b[1;33m,\u001b[0m \u001b[0mstorage_options\u001b[0m\u001b[1;33m=\u001b[0m\u001b[0mstorage_options\u001b[0m\u001b[1;33m\u001b[0m\u001b[1;33m\u001b[0m\u001b[0m\n\u001b[0;32m   1378\u001b[0m                 )\n",
      "\u001b[1;32mc:\\Users\\gabri\\anaconda3\\lib\\site-packages\\pandas\\io\\excel\\_base.py\u001b[0m in \u001b[0;36minspect_excel_format\u001b[1;34m(content_or_path, storage_options)\u001b[0m\n\u001b[0;32m   1248\u001b[0m         \u001b[0mcontent_or_path\u001b[0m \u001b[1;33m=\u001b[0m \u001b[0mBytesIO\u001b[0m\u001b[1;33m(\u001b[0m\u001b[0mcontent_or_path\u001b[0m\u001b[1;33m)\u001b[0m\u001b[1;33m\u001b[0m\u001b[1;33m\u001b[0m\u001b[0m\n\u001b[0;32m   1249\u001b[0m \u001b[1;33m\u001b[0m\u001b[0m\n\u001b[1;32m-> 1250\u001b[1;33m     with get_handle(\n\u001b[0m\u001b[0;32m   1251\u001b[0m         \u001b[0mcontent_or_path\u001b[0m\u001b[1;33m,\u001b[0m \u001b[1;34m\"rb\"\u001b[0m\u001b[1;33m,\u001b[0m \u001b[0mstorage_options\u001b[0m\u001b[1;33m=\u001b[0m\u001b[0mstorage_options\u001b[0m\u001b[1;33m,\u001b[0m \u001b[0mis_text\u001b[0m\u001b[1;33m=\u001b[0m\u001b[1;32mFalse\u001b[0m\u001b[1;33m\u001b[0m\u001b[1;33m\u001b[0m\u001b[0m\n\u001b[0;32m   1252\u001b[0m     ) as handle:\n",
      "\u001b[1;32mc:\\Users\\gabri\\anaconda3\\lib\\site-packages\\pandas\\io\\common.py\u001b[0m in \u001b[0;36mget_handle\u001b[1;34m(path_or_buf, mode, encoding, compression, memory_map, is_text, errors, storage_options)\u001b[0m\n\u001b[0;32m    796\u001b[0m         \u001b[1;32melse\u001b[0m\u001b[1;33m:\u001b[0m\u001b[1;33m\u001b[0m\u001b[1;33m\u001b[0m\u001b[0m\n\u001b[0;32m    797\u001b[0m             \u001b[1;31m# Binary mode\u001b[0m\u001b[1;33m\u001b[0m\u001b[1;33m\u001b[0m\u001b[0m\n\u001b[1;32m--> 798\u001b[1;33m             \u001b[0mhandle\u001b[0m \u001b[1;33m=\u001b[0m \u001b[0mopen\u001b[0m\u001b[1;33m(\u001b[0m\u001b[0mhandle\u001b[0m\u001b[1;33m,\u001b[0m \u001b[0mioargs\u001b[0m\u001b[1;33m.\u001b[0m\u001b[0mmode\u001b[0m\u001b[1;33m)\u001b[0m\u001b[1;33m\u001b[0m\u001b[1;33m\u001b[0m\u001b[0m\n\u001b[0m\u001b[0;32m    799\u001b[0m         \u001b[0mhandles\u001b[0m\u001b[1;33m.\u001b[0m\u001b[0mappend\u001b[0m\u001b[1;33m(\u001b[0m\u001b[0mhandle\u001b[0m\u001b[1;33m)\u001b[0m\u001b[1;33m\u001b[0m\u001b[1;33m\u001b[0m\u001b[0m\n\u001b[0;32m    800\u001b[0m \u001b[1;33m\u001b[0m\u001b[0m\n",
      "\u001b[1;31mFileNotFoundError\u001b[0m: [Errno 2] No such file or directory: 'indicadores_trajetoria_educacao_superior_2018_2022.xlsx'"
     ]
    }
   ],
   "source": [
    "dados = pd.read_excel('indicadores_trajetoria_educacao_superior_2018_2022.xlsx')\n",
    "dados.head(3)"
   ]
  },
  {
   "cell_type": "markdown",
   "metadata": {},
   "source": [
    "**Dicionário da base de dados**\n",
    "\n",
    "- Código da Instituição: valor numérico referente à instituição\n",
    "- Nome da Instituição: nome da instituição de ensino a que se referem os dados\n",
    "- Categoria Administrativa: código da cateoria administrativa da instituição de ensino no último ano de análise\n",
    "    1. Pública Federal\n",
    "    2. Pública Estadual\n",
    "    3. Pública Municipal\n",
    "    4. Privada com fins lucrativos\n",
    "    5. Privada sem fins lucrativos\n",
    "    7. Especial\n",
    "- Organização Acadêmica: código da organização acadêmica da instituição de ensino\n",
    "    1. Universidade\n",
    "    2. Centro Universitário\n",
    "    3. Faculdade\n",
    "    4. Instituto Federal de Educação, Ciência e Tecnologia                                \n",
    "    5. Centro Federal de Educação Tecnológica\n",
    "- Código do Curso de Graduação: código único de identificação do curso gerado pelo E-MEC\n",
    "- Nome do Curso de Graduação: nome do curso com a informação do último ano de análise\n",
    "- Código da Região Geográfica do Curso: código da Região Geográfica do local de oferta do curso gerado pelo E-MEC no último ano de análise\n",
    "    1. Região Norte\n",
    "    2. Região Nordeste\n",
    "    3. Região Sudeste\n",
    "    4. Região Sul\n",
    "    5. Região Centro-Oeste\n",
    "- Código da Unidade Federativa do Curso: código do estado da federação do local de oferta do curso\n",
    "- Código do Município do Curso: código do município do local de oferta do curso gerado \n",
    "- Grau Acadêmico: grau conferido ao diplomado pelo curso\n",
    "    1. Bacharelado\n",
    "    2. Licenciatura\n",
    "    3. Tecnológico\n",
    "- Modalidade de Ensino: modalidade do curso no último ano de análise\n",
    "    1. Presencial\n",
    "    2. Curso a distância\n",
    "- Código da área do Curso segundo a classificação CINE BRASIL: Código da área geral conforme adaptação da Classificação Internacional Normalizada da Educação Cine/Unesco.\n",
    "- Nome da área do Curso segundo a classificação CINE BRASIL: Nome da área geral conforme adaptação da Classificação Internacional Normalizada da Educação Cine/Unesco.\n",
    "- Código da Grande Área do Curso segundo a classificação CINE BRASIL: Código de identificação do curso, conforme adaptação da Classificação Internacional Normalizada da Educação Cine/Unesco.\n",
    "- Nome da Grande Área do Curso segundo a classificação CINE BRASIL: Nome de identificação do curso, conforme adaptação da Classificação Internacional Normalizada da Educação Cine/Unesco.\n",
    "- Ano de Ingresso: Ano de ingresso do aluno no curso.\n",
    "- Ano de Referência: Ano de referência do vínculo do ingressante.\n",
    "- Prazo de Integralização em Anos: Prazo mínimo de integralização de curso de graduação em número de anos.\n",
    "- Ano de Integralização do Curso: Ano previsto de integralização do aluno ao curso.\n",
    "- Prazo de Acompanhamento do Curso em anos: Prazo máximo de integralização de curso de graduação em número de anos.\n",
    "- Ano Máximo de Acompanhamento do Curso: Ano máximo de acompanhamento da situação de vínculo do aluno.\n",
    "- Quantidade de Ingressantes no Curso: Número de ingressantes do curso no ano de ingresso da coorte.\n",
    "- Quantidade de Permanência no Curso no ano de referência: Número de estudantes que permaneceram no curso de graduação no ano de referência da análise.\n",
    "- Quantidade de Concluintes no Curso no ano de referência: Número de estudantes que concluíram o curso de graduação no ano de referência da análise.\n",
    "- Quantidade de Desistência no Curso no ano de referência: Número de estudantes que desistiram do curso de graduação no ano de referência da análise.\n",
    "- Quantidade de Falecimentos no Curso no ano de referência: Número de estudantes que faleceram no ano de referência da análise.\n",
    "- Taxa de Permanência - TAP: Percentual de ingressantes que estão com vínculo ativo no curso no ano de referência.\n",
    "- Taxa de Conclusão Acumulada - TCA: Percentual de ingressantes que concluíram o curso até o ano de referência.\n",
    "- Taxa de Desistência Acumulada - TDA: Percentual de ingressantes que desistiram do curso até o ano de referência.\n",
    "- Taxa de Conclusão Anual - TCAN: Percentual de ingressantes que concluíram o curso no ano de referência.\n",
    "- Taxa de Desistência Anual - TADA: Percentual de ingressantes que desistiram do curso no ano de referência.\n",
    "\n",
    "**Features considerados**\n",
    "\n",
    "A partir da análise das informações contidas na base de dados, é possível identificar que nem todas as colunas dessa base possuem informações relevantes para o objetivo de prever o número de desistências em cursos de graduação. Algumas colunas possuem informações redundantes, e outras simplesmente representam códigos que fogem do interesse da análise. Portanto, foi selecionado um conjunto específico de colunas que podem ser mais pertinentes para a construção do modelo preditivo. Essas colunas, que representarão as \"Features\" ou variáveis independentes, são as seguintes:\n",
    "\n",
    "    Nome da Instituição\n",
    "    Categoria Administrativa\n",
    "    Organização Acadêmica\n",
    "    Código da Unidade Federativa do Curso\n",
    "    Código do Município do Curso\n",
    "    Grau Acadêmico\n",
    "    Modalidade de Ensino\n",
    "    Nome da área do Curso segundo a classificação CINE BRASIL\n",
    "    Ano de Ingresso\n",
    "    Ano de Referência\n",
    "    Quantidade de Ingressantes no Curso\n",
    "    Quantidade de Permanência no Curso no ano de referência\n",
    "    Quantidade de Concluintes no Curso no ano de referência\n",
    "    \n",
    "    \n",
    "**Variável de Destino (Target)**\n",
    "\n",
    "Como o objetivo principal é prever o número de desistências em cursos de graduação, a variável de destino ou \"Target\" que será previsto é a \"Quantidade de Desistência no Curso no ano de referência\". Esta variável é fundamental, pois representa o número de alunos que abandonaram o curso durante o ano de referência, e o objetivo é entender os fatores que podem influenciar essa taxa de desistência.\n",
    "\n",
    "A seleção cuidadosa das colunas de interesse e a escolha da variável de destino são passos essenciais para a construção de um modelo preditivo preciso e informativo. Com essas informações será possível realizar a análise e construção de modelos que permitirão prever e compreender as desistências em cursos de graduação.\n",
    "\n"
   ]
  },
  {
   "cell_type": "markdown",
   "metadata": {},
   "source": [
    "\n",
    "**Estrutura do Projeto**\n",
    "\n",
    "Serão exploradas técnicas de regressão para a previsão da variável quantitativa \"Quantidade de Desistência no Curso\". A qualidade da comunicação e apresentação dos resultados também será uma prioridade, assegurando que os resultados sejam compreensíveis para um público amplo.\n",
    "\n",
    "Este projeto tem como objetivo fornecer previsões robustas e ir além de uma simples análise exploratória de dados. Espera-se que a análise e modelos desenvolvidos ajudem a entender e prever as desistências em cursos de graduação, o que pode ter implicações importantes na melhoria da Educação Superior."
   ]
  },
  {
   "cell_type": "markdown",
   "metadata": {},
   "source": [
    "# Minerando Dados e Características do Dataset"
   ]
  },
  {
   "cell_type": "code",
   "execution_count": null,
   "metadata": {},
   "outputs": [],
   "source": []
  },
  {
   "cell_type": "markdown",
   "metadata": {},
   "source": [
    "# Modelos de Predição"
   ]
  },
  {
   "cell_type": "code",
   "execution_count": null,
   "metadata": {},
   "outputs": [],
   "source": []
  },
  {
   "cell_type": "markdown",
   "metadata": {},
   "source": [
    "# Processo e Estatísticas de Validação"
   ]
  },
  {
   "cell_type": "code",
   "execution_count": null,
   "metadata": {},
   "outputs": [],
   "source": []
  },
  {
   "cell_type": "markdown",
   "metadata": {},
   "source": [
    "# Conclusão "
   ]
  },
  {
   "cell_type": "code",
   "execution_count": null,
   "metadata": {},
   "outputs": [],
   "source": []
  },
  {
   "cell_type": "markdown",
   "metadata": {},
   "source": [
    "# Referências Bibliográficas"
   ]
  },
  {
   "cell_type": "markdown",
   "metadata": {},
   "source": []
  }
 ],
 "metadata": {
  "kernelspec": {
   "display_name": "base",
   "language": "python",
   "name": "python3"
  },
  "language_info": {
   "codemirror_mode": {
    "name": "ipython",
    "version": 3
   },
   "file_extension": ".py",
   "mimetype": "text/x-python",
   "name": "python",
   "nbconvert_exporter": "python",
   "pygments_lexer": "ipython3",
   "version": "3.9.13"
  }
 },
 "nbformat": 4,
 "nbformat_minor": 2
}
